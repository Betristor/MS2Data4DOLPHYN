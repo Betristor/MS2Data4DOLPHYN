{
 "cells": [
  {
   "cell_type": "code",
   "execution_count": 2,
   "metadata": {},
   "outputs": [],
   "source": [
    "import xarray as xr\n",
    "import pandas as pd\n",
    "import numpy as np"
   ]
  },
  {
   "cell_type": "code",
   "execution_count": 3,
   "metadata": {},
   "outputs": [],
   "source": [
    "def power_curve(speed):\n",
    "    if speed < 3 or speed > 25:\n",
    "        cf = 0\n",
    "    elif 3 <= speed <= 13:\n",
    "        cf = 1/2*1.225*50**2*np.pi*speed**3 / 10600000 - 0.012\n",
    "    elif 13 < speed <= 25:\n",
    "        cf = 1\n",
    "    return cf\n",
    "\n",
    "def onshore_cf(u, v):\n",
    "    s = np.sqrt(u[\"u\"]**2 + v[\"v\"]**2).to_dataset(name=\"speed\")\n",
    "    s.attrs[\"units\"] = \"m/s\"\n",
    "    cf = xr.apply_ufunc(np.interp, s, np.arange(0, 100.01, 0.1), np.array(list(map(power_curve, np.arange(0, 100.01, 0.1)))))\n",
    "    return cf"
   ]
  },
  {
   "cell_type": "code",
   "execution_count": 6,
   "metadata": {},
   "outputs": [
    {
     "name": "stdout",
     "output_type": "stream",
     "text": [
      "Processing 2022\n"
     ]
    }
   ],
   "source": [
    "year = \"2022\"\n",
    "# Onshore wind turbine generation potential\n",
    "print(f\"Processing {year}\")\n",
    "# Load wind speed data\n",
    "u = xr.open_dataset(f\"/Volumes/Results/ERA5/era5.u_component_of_wind/era5.u_component_of_wind.{year}.nc\")\n",
    "v = xr.open_dataset(f\"/Volumes/Results/ERA5/era5.v_component_of_wind/era5.v_component_of_wind.{year}.nc\")\n",
    "cf = onshore_cf(u, v)\n",
    "cf.to_netcdf(f\"/Volumes/Results/ERA5-CF/era5.onshore_cf/era5.onshore_cf.{year}.nc\")"
   ]
  }
 ],
 "metadata": {
  "kernelspec": {
   "display_name": "Conda:PSA",
   "language": "python",
   "name": "psa"
  },
  "language_info": {
   "codemirror_mode": {
    "name": "ipython",
    "version": 3
   },
   "file_extension": ".py",
   "mimetype": "text/x-python",
   "name": "python",
   "nbconvert_exporter": "python",
   "pygments_lexer": "ipython3",
   "version": "3.9.19"
  }
 },
 "nbformat": 4,
 "nbformat_minor": 2
}
