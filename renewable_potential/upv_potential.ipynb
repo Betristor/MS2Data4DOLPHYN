{
 "cells": [
  {
   "cell_type": "code",
   "execution_count": 2,
   "metadata": {},
   "outputs": [],
   "source": [
    "import xarray as xr\n",
    "import pandas as pd\n",
    "import numpy as np"
   ]
  },
  {
   "cell_type": "code",
   "execution_count": 23,
   "metadata": {},
   "outputs": [],
   "source": [
    "def upv_cf(ssrd, temp):\n",
    "    return 0.95*0.86*0.12*(1-0.004*(temp[\"t\"]-298.15))*ssrd[\"ssrd\"]/3600*1.6467/270"
   ]
  },
  {
   "cell_type": "code",
   "execution_count": 18,
   "metadata": {},
   "outputs": [],
   "source": [
    "year = \"2018\"\n",
    "# Utility photovoltaic generation potential\n",
    "ssrd = xr.open_dataset(f\"/Volumes/Results/ERA5/era5.surface_solar_radiation_downwards/era5.surface_solar_radiation_downwards.{year}.nc\")\n",
    "temp = xr.open_dataset(f\"/Volumes/Results/ERA5/era5.temperature/era5.temperature.{year}.nc\")"
   ]
  },
  {
   "cell_type": "code",
   "execution_count": 24,
   "metadata": {},
   "outputs": [],
   "source": [
    "cf = upv_cf(ssrd, temp)"
   ]
  },
  {
   "cell_type": "code",
   "execution_count": 20,
   "metadata": {},
   "outputs": [
    {
     "name": "stdout",
     "output_type": "stream",
     "text": [
      "<xarray.Dataset> Size: 8B\n",
      "Dimensions:  ()\n",
      "Data variables:\n",
      "    t        float64 8B -3.037e-07 <xarray.Dataset> Size: 8B\n",
      "Dimensions:  ()\n",
      "Data variables:\n",
      "    t        float64 8B 0.115 <xarray.Dataset> Size: 8B\n",
      "Dimensions:  ()\n",
      "Data variables:\n",
      "    t        float64 8B 0.7219\n"
     ]
    }
   ],
   "source": [
    "print(cf.min(), cf.mean(), cf.max())"
   ]
  },
  {
   "cell_type": "code",
   "execution_count": 21,
   "metadata": {},
   "outputs": [],
   "source": [
    "cf.to_netcdf(f\"/Volumes/Results/ERA5-CF/era5.upv_cf.{year}.nc\")"
   ]
  }
 ],
 "metadata": {
  "kernelspec": {
   "display_name": "Conda:PSA",
   "language": "python",
   "name": "psa"
  },
  "language_info": {
   "codemirror_mode": {
    "name": "ipython",
    "version": 3
   },
   "file_extension": ".py",
   "mimetype": "text/x-python",
   "name": "python",
   "nbconvert_exporter": "python",
   "pygments_lexer": "ipython3",
   "version": "3.9.19"
  }
 },
 "nbformat": 4,
 "nbformat_minor": 2
}
