{
 "cells": [
  {
   "cell_type": "code",
   "execution_count": 2,
   "metadata": {},
   "outputs": [],
   "source": [
    "import numpy as np\n",
    "import pandas as pd\n",
    "import netCDF4 as nc\n",
    "import xarray as xr\n",
    "\n",
    "import datetime"
   ]
  },
  {
   "cell_type": "code",
   "execution_count": 59,
   "metadata": {},
   "outputs": [],
   "source": [
    "## Time scope\n",
    "year = 2019\n",
    "dayindex = (\n",
    "    pd.date_range(f\"{year}0101\", f\"{year}1231\", freq=\"D\").strftime(\"%Y%m%d\").to_list()\n",
    ")\n",
    "timeindex = pd.date_range(f\"{year}-01-01 00:00:00\", f\"{year}-12-31 23:00:00\", freq=\"h\")\n",
    "\n",
    "# Geo scope 70E-140E, 0N-60N\n",
    "lons = [str(x) for x in np.arange(70, 140.2, 0.25).tolist()]\n",
    "lats = [str(x) for x in np.arange(0, 60.2, 0.25).tolist()]"
   ]
  },
  {
   "cell_type": "code",
   "execution_count": null,
   "metadata": {},
   "outputs": [],
   "source": [
    "# era5.surface_solar_radiation_downwards\n",
    "!cdo -b F64 mergetime ${path1}/era5.surface_solar_radiation_downwards.${year}*.nc ${path2}/era5.surface_solar_radiation_downwards.${year}.nc\n",
    "!cdo --reduce_dim sellevel,1000 ${path2}/era5.surface_solar_radiation_downwards.${year}.nc ${path3}/era5.surface_solar_radiation_downwards.${year}.nc"
   ]
  },
  {
   "cell_type": "code",
   "execution_count": null,
   "metadata": {},
   "outputs": [],
   "source": [
    "# era5.temperature\n",
    "!cdo -b F64 mergetime ${path1}/era5.temperature.${year}*.nc ${path2}/era5.temperature.${year}.nc\n",
    "!cdo --reduce_dim sellevel,1000 ${path2}/era5.temperature.${year}.nc ${path3}/era5.temperature.${year}.nc"
   ]
  },
  {
   "cell_type": "code",
   "execution_count": null,
   "metadata": {},
   "outputs": [],
   "source": [
    "# era5.u_component_of_wind\n",
    "!cdo -b F64 mergetime ${path1}/era5.u_component_of_wind.${year}*.nc ${path2}/era5.u_component_of_wind.${year}.nc\n",
    "!cdo --reduce_dim sellevel,1000 ${path2}/era5.u_component_of_wind.${year}.nc ${path3}/era5.u_component_of_wind.${year}.nc"
   ]
  },
  {
   "cell_type": "code",
   "execution_count": null,
   "metadata": {},
   "outputs": [],
   "source": [
    "# era5.v_component_of_wind\n",
    "!cdo -b F64 mergetime ${path1}/era5.v_component_of_wind.${year}*.nc ${path2}/era5.v_component_of_wind.${year}.nc\n",
    "!cdo --reduce_dim sellevel,1000 ${path2}/era5.v_component_of_wind.${year}.nc ${path3}/era5.v_component_of_wind.${year}.nc"
   ]
  }
 ],
 "metadata": {
  "kernelspec": {
   "display_name": "Conda:PSA",
   "language": "python",
   "name": "psa"
  },
  "language_info": {
   "codemirror_mode": {
    "name": "ipython",
    "version": 3
   },
   "file_extension": ".py",
   "mimetype": "text/x-python",
   "name": "python",
   "nbconvert_exporter": "python",
   "pygments_lexer": "ipython3",
   "version": "3.9.19"
  }
 },
 "nbformat": 4,
 "nbformat_minor": 2
}
